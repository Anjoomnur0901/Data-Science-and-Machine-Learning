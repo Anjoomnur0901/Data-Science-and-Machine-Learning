{
 "cells": [
  {
   "cell_type": "markdown",
   "id": "59ba6df9-747e-41f6-aadb-c65e2e0c8785",
   "metadata": {},
   "source": [
    "I/O function\n"
   ]
  },
  {
   "cell_type": "code",
   "execution_count": 1,
   "id": "73bd1e87-51bb-4380-a2b3-554d592cd218",
   "metadata": {},
   "outputs": [
    {
     "name": "stdout",
     "output_type": "stream",
     "text": [
      "40\n"
     ]
    }
   ],
   "source": [
    "print(10+30)"
   ]
  },
  {
   "cell_type": "code",
   "execution_count": 2,
   "id": "0d6e174a-162b-4ce2-9972-99382db049fd",
   "metadata": {},
   "outputs": [
    {
     "name": "stdout",
     "output_type": "stream",
     "text": [
      "10\n",
      "30\n"
     ]
    }
   ],
   "source": [
    "print(10)\n",
    "print(30)"
   ]
  },
  {
   "cell_type": "code",
   "execution_count": 3,
   "id": "28ded157-f629-4620-afe7-6d9a83d1631f",
   "metadata": {},
   "outputs": [
    {
     "name": "stdout",
     "output_type": "stream",
     "text": [
      "10||30\n"
     ]
    }
   ],
   "source": [
    "print(10, end='||') #shift+tab to open suggession\n",
    "print(30)#shift +enter to run"
   ]
  },
  {
   "cell_type": "code",
   "execution_count": null,
   "id": "2a265886-bfca-4d19-9695-e2e230b87f24",
   "metadata": {},
   "outputs": [],
   "source": [
    "print('data','science', end='||', sep=' ') #shift+tab to open suggession\n",
    "print(30)#shift +enter to run"
   ]
  }
 ],
 "metadata": {
  "kernelspec": {
   "display_name": "Python 3 (ipykernel)",
   "language": "python",
   "name": "python3"
  },
  "language_info": {
   "codemirror_mode": {
    "name": "ipython",
    "version": 3
   },
   "file_extension": ".py",
   "mimetype": "text/x-python",
   "name": "python",
   "nbconvert_exporter": "python",
   "pygments_lexer": "ipython3",
   "version": "3.11.3"
  }
 },
 "nbformat": 4,
 "nbformat_minor": 5
}
