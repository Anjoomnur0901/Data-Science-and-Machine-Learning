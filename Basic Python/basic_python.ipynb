{
 "cells": [
  {
   "cell_type": "markdown",
   "id": "59ba6df9-747e-41f6-aadb-c65e2e0c8785",
   "metadata": {},
   "source": [
    "I/O function\n"
   ]
  },
  {
   "cell_type": "code",
   "execution_count": 1,
   "id": "73bd1e87-51bb-4380-a2b3-554d592cd218",
   "metadata": {},
   "outputs": [
    {
     "name": "stdout",
     "output_type": "stream",
     "text": [
      "40\n"
     ]
    }
   ],
   "source": [
    "print(10+30)"
   ]
  },
  {
   "cell_type": "code",
   "execution_count": 2,
   "id": "0d6e174a-162b-4ce2-9972-99382db049fd",
   "metadata": {},
   "outputs": [
    {
     "name": "stdout",
     "output_type": "stream",
     "text": [
      "10\n",
      "30\n"
     ]
    }
   ],
   "source": [
    "print(10)\n",
    "print(30)"
   ]
  },
  {
   "cell_type": "code",
   "execution_count": 3,
   "id": "28ded157-f629-4620-afe7-6d9a83d1631f",
   "metadata": {},
   "outputs": [
    {
     "name": "stdout",
     "output_type": "stream",
     "text": [
      "10||30\n"
     ]
    }
   ],
   "source": [
    "print(10, end='||') #shift+tab to open suggession\n",
    "print(30)#shift +enter to run"
   ]
  },
  {
   "cell_type": "code",
   "execution_count": 4,
   "id": "2a265886-bfca-4d19-9695-e2e230b87f24",
   "metadata": {},
   "outputs": [
    {
     "name": "stdout",
     "output_type": "stream",
     "text": [
      "data science||30\n"
     ]
    }
   ],
   "source": [
    "print('data','science', end='||', sep=' ') #shift+tab to open suggession\n",
    "print(30)#shift +enter to run"
   ]
  },
  {
   "cell_type": "code",
   "execution_count": 5,
   "id": "5e85ac6d-acb7-40fd-844f-1cd82c67adc6",
   "metadata": {},
   "outputs": [
    {
     "name": "stdout",
     "output_type": "stream",
     "text": [
      "data,science||30\n"
     ]
    }
   ],
   "source": [
    "print('data','science', end='||', sep=',') #shift+tab to open suggession\n",
    "print(30)#shift +enter to run"
   ]
  },
  {
   "cell_type": "code",
   "execution_count": 8,
   "id": "d3414d77-fa93-4496-bb08-bedd7232fd65",
   "metadata": {},
   "outputs": [
    {
     "name": "stdin",
     "output_type": "stream",
     "text": [
      "1st number 5\n",
      "2nd number 5\n"
     ]
    },
    {
     "name": "stdout",
     "output_type": "stream",
     "text": [
      "55\n"
     ]
    },
    {
     "data": {
      "text/plain": [
       "str"
      ]
     },
     "execution_count": 8,
     "metadata": {},
     "output_type": "execute_result"
    }
   ],
   "source": [
    "x = input('1st number')\n",
    "y = input('2nd number')\n",
    "print(x+y)#will output string concat\n",
    "type(x+y)"
   ]
  },
  {
   "cell_type": "code",
   "execution_count": 9,
   "id": "9ad5225f-7679-4c77-b74b-e8a0d0b7acfa",
   "metadata": {},
   "outputs": [
    {
     "name": "stdin",
     "output_type": "stream",
     "text": [
      "1st number 5\n",
      "2nd number 5\n"
     ]
    },
    {
     "name": "stdout",
     "output_type": "stream",
     "text": [
      "10\n"
     ]
    },
    {
     "data": {
      "text/plain": [
       "int"
      ]
     },
     "execution_count": 9,
     "metadata": {},
     "output_type": "execute_result"
    }
   ],
   "source": [
    "x = int(input('1st number'))\n",
    "y = int(input('2nd number'))\n",
    "print(x+y)#will output string concat\n",
    "type(x+y)\n"
   ]
  },
  {
   "cell_type": "code",
   "execution_count": 10,
   "id": "ce4c2f94-0aae-4670-a50d-58d7994e30bc",
   "metadata": {},
   "outputs": [],
   "source": [
    "x,y,z = 10,20,30"
   ]
  },
  {
   "cell_type": "code",
   "execution_count": 11,
   "id": "f5afae60-cdfe-4d2a-983f-3a5df30a4492",
   "metadata": {},
   "outputs": [],
   "source": [
    "student_name = ['a','b','c'] #snake case recommended"
   ]
  },
  {
   "cell_type": "code",
   "execution_count": 12,
   "id": "aa90bc04-9e71-4844-81dd-1cd7fb1000f3",
   "metadata": {},
   "outputs": [],
   "source": [
    "StudentName = ['a','b','c'] #pascal case"
   ]
  },
  {
   "cell_type": "code",
   "execution_count": 13,
   "id": "3c148d7b-e57c-414d-afc3-9897aa68bd4d",
   "metadata": {},
   "outputs": [],
   "source": [
    "studentName = ['a','b','c'] #camel case"
   ]
  },
  {
   "cell_type": "markdown",
   "id": "ffe410b3-da96-413b-88e9-ec136506cc00",
   "metadata": {},
   "source": [
    "Global vs Local"
   ]
  },
  {
   "cell_type": "code",
   "execution_count": 14,
   "id": "3cda1e19-59c7-4241-80b7-b0ba49be24ed",
   "metadata": {},
   "outputs": [],
   "source": [
    "x = 100\n",
    "def sum_func():\n",
    "    print(x+x)"
   ]
  },
  {
   "cell_type": "code",
   "execution_count": 15,
   "id": "46fa3c08-3c2a-4294-bea5-99c9a853cdbb",
   "metadata": {},
   "outputs": [],
   "source": [
    "x = 100\n",
    "def sum_func():\n",
    "    d=45\n",
    "    print(d+d)"
   ]
  },
  {
   "cell_type": "code",
   "execution_count": 16,
   "id": "81c8bbc5-7b76-4609-a2ac-b7daea583d01",
   "metadata": {},
   "outputs": [
    {
     "name": "stdout",
     "output_type": "stream",
     "text": [
      "90\n"
     ]
    }
   ],
   "source": [
    "sum_func()"
   ]
  },
  {
   "cell_type": "code",
   "execution_count": 17,
   "id": "8c5e3f27-b46e-49dc-a446-fb594fd2a70d",
   "metadata": {},
   "outputs": [
    {
     "ename": "NameError",
     "evalue": "name 'd' is not defined",
     "output_type": "error",
     "traceback": [
      "\u001b[1;31m---------------------------------------------------------------------------\u001b[0m",
      "\u001b[1;31mNameError\u001b[0m                                 Traceback (most recent call last)",
      "Cell \u001b[1;32mIn[17], line 1\u001b[0m\n\u001b[1;32m----> 1\u001b[0m \u001b[38;5;28mprint\u001b[39m(\u001b[43md\u001b[49m)\n",
      "\u001b[1;31mNameError\u001b[0m: name 'd' is not defined"
     ]
    }
   ],
   "source": [
    "print(d)#inside a function so won't be accessible outside function. "
   ]
  },
  {
   "cell_type": "code",
   "execution_count": 22,
   "id": "c9b9be71-f1cf-447f-a92e-8e3ad8a80f22",
   "metadata": {},
   "outputs": [],
   "source": [
    "def sum_func():\n",
    "    global m\n",
    "    m=45\n",
    "    print(m+m)"
   ]
  },
  {
   "cell_type": "code",
   "execution_count": 24,
   "id": "7bd4b029-cbd1-43ba-8166-19ac7dd712e4",
   "metadata": {},
   "outputs": [
    {
     "name": "stdout",
     "output_type": "stream",
     "text": [
      "90\n"
     ]
    }
   ],
   "source": [
    "sum_func()"
   ]
  },
  {
   "cell_type": "code",
   "execution_count": 25,
   "id": "2da46a15-194a-44c7-9b46-c42f91ff216b",
   "metadata": {},
   "outputs": [
    {
     "name": "stdout",
     "output_type": "stream",
     "text": [
      "45\n"
     ]
    }
   ],
   "source": [
    "print(m)"
   ]
  },
  {
   "cell_type": "code",
   "execution_count": 27,
   "id": "aa88b7a2-6d94-4150-9f2e-c4733d343e0b",
   "metadata": {},
   "outputs": [
    {
     "data": {
      "text/plain": [
       "'s'"
      ]
     },
     "execution_count": 27,
     "metadata": {},
     "output_type": "execute_result"
    }
   ],
   "source": [
    "strings = \"set of char\"\n",
    "strings[0]"
   ]
  },
  {
   "cell_type": "code",
   "execution_count": 28,
   "id": "8ef88987-2216-4004-9fd0-64ca03189b28",
   "metadata": {},
   "outputs": [
    {
     "data": {
      "text/plain": [
       "11"
      ]
     },
     "execution_count": 28,
     "metadata": {},
     "output_type": "execute_result"
    }
   ],
   "source": [
    "len(strings)"
   ]
  },
  {
   "cell_type": "code",
   "execution_count": 30,
   "id": "c4a9f722-de3a-4353-884e-46f5d80e9208",
   "metadata": {},
   "outputs": [
    {
     "data": {
      "text/plain": [
       "'t of c'"
      ]
     },
     "execution_count": 30,
     "metadata": {},
     "output_type": "execute_result"
    }
   ],
   "source": [
    "strings[2:8] #from index 2 to 7"
   ]
  },
  {
   "cell_type": "code",
   "execution_count": 31,
   "id": "0c466496-0c77-4846-a072-41300445fa58",
   "metadata": {},
   "outputs": [
    {
     "data": {
      "text/plain": [
       "'Set of char'"
      ]
     },
     "execution_count": 31,
     "metadata": {},
     "output_type": "execute_result"
    }
   ],
   "source": [
    "strings.capitalize() #capitalize ta first letter"
   ]
  },
  {
   "cell_type": "code",
   "execution_count": 32,
   "id": "35532ee1-adf8-4ef4-9648-a1f96c69e7a1",
   "metadata": {},
   "outputs": [
    {
     "data": {
      "text/plain": [
       "'SET OF CHAR'"
      ]
     },
     "execution_count": 32,
     "metadata": {},
     "output_type": "execute_result"
    }
   ],
   "source": [
    "strings.swapcase()"
   ]
  },
  {
   "cell_type": "code",
   "execution_count": 33,
   "id": "943c760e-d739-40c2-8d7d-6ca4dc4a5604",
   "metadata": {},
   "outputs": [
    {
     "data": {
      "text/plain": [
       "'Set Of Char'"
      ]
     },
     "execution_count": 33,
     "metadata": {},
     "output_type": "execute_result"
    }
   ],
   "source": [
    "strings.title()"
   ]
  },
  {
   "cell_type": "code",
   "execution_count": 34,
   "id": "189f7d80-cd45-4f20-8a36-5c948b34c2f5",
   "metadata": {},
   "outputs": [
    {
     "data": {
      "text/plain": [
       "False"
      ]
     },
     "execution_count": 34,
     "metadata": {},
     "output_type": "execute_result"
    }
   ],
   "source": [
    "strings.isupper()"
   ]
  },
  {
   "cell_type": "code",
   "execution_count": 35,
   "id": "9bcb21cb-2b3b-42b2-ae3d-38c7a7aa026c",
   "metadata": {},
   "outputs": [
    {
     "data": {
      "text/plain": [
       "True"
      ]
     },
     "execution_count": 35,
     "metadata": {},
     "output_type": "execute_result"
    }
   ],
   "source": [
    "strings.islower()\n"
   ]
  },
  {
   "cell_type": "code",
   "execution_count": 36,
   "id": "830750ba-782d-4c17-ad75-336d94060ec9",
   "metadata": {},
   "outputs": [
    {
     "data": {
      "text/plain": [
       "['set', 'of', 'char']"
      ]
     },
     "execution_count": 36,
     "metadata": {},
     "output_type": "execute_result"
    }
   ],
   "source": [
    "strings.split()"
   ]
  },
  {
   "cell_type": "markdown",
   "id": "a445e464-42c2-4b44-963a-97d84b629faf",
   "metadata": {},
   "source": [
    "Split Formatting"
   ]
  },
  {
   "cell_type": "code",
   "execution_count": 40,
   "id": "f9345a3f-a32c-4aec-b387-589a05f90d73",
   "metadata": {},
   "outputs": [
    {
     "name": "stdout",
     "output_type": "stream",
     "text": [
      "100 kg rice price is 2000 taka\n"
     ]
    }
   ],
   "source": [
    "x= 100\n",
    "y= 2000\n",
    "#100 kg rice price is 2000 taka\n",
    "print('{} kg rice price is {} taka'.format(x, y))"
   ]
  },
  {
   "cell_type": "code",
   "execution_count": 41,
   "id": "07189755-9777-43d0-9b34-7019d2318d9f",
   "metadata": {},
   "outputs": [
    {
     "name": "stdout",
     "output_type": "stream",
     "text": [
      "100 kg rice price is 2000 taka\n"
     ]
    }
   ],
   "source": [
    "print('{0} kg rice price is {1} taka'.format(x, y))"
   ]
  },
  {
   "cell_type": "code",
   "execution_count": 42,
   "id": "b071bbd0-3f13-47ad-8c3f-b5b26d2bb9f9",
   "metadata": {},
   "outputs": [
    {
     "name": "stdout",
     "output_type": "stream",
     "text": [
      "2000 kg rice price is 100 taka\n"
     ]
    }
   ],
   "source": [
    "print('{1} kg rice price is {0} taka'.format(x, y))"
   ]
  },
  {
   "cell_type": "code",
   "execution_count": 43,
   "id": "8c178a47-738d-4432-bfc3-2ac3062015d4",
   "metadata": {},
   "outputs": [
    {
     "name": "stdout",
     "output_type": "stream",
     "text": [
      "y is greater than x\n"
     ]
    }
   ],
   "source": [
    "x= 10\n",
    "y = 20\n",
    "if x>y:\n",
    "    print(\"x is greater than y\")\n",
    "elif y>x:\n",
    "    print(\"y is greater than x\")\n",
    "else:\n",
    "    print(\"equal\")"
   ]
  },
  {
   "cell_type": "code",
   "execution_count": 44,
   "id": "e52de079-4427-46f2-9965-a7c97e45a1b1",
   "metadata": {},
   "outputs": [
    {
     "name": "stdout",
     "output_type": "stream",
     "text": [
      "a\n",
      "b\n",
      "c\n"
     ]
    }
   ],
   "source": [
    "subjects = ['a','b','c']\n",
    "for x in subjects:\n",
    "    print(x)"
   ]
  },
  {
   "cell_type": "code",
   "execution_count": 45,
   "id": "425c60de-c2be-45bb-b8cc-a04097187891",
   "metadata": {},
   "outputs": [
    {
     "name": "stdout",
     "output_type": "stream",
     "text": [
      "1\n",
      "2\n",
      "3\n",
      "4\n",
      "5\n",
      "6\n",
      "7\n",
      "8\n",
      "9\n"
     ]
    }
   ],
   "source": [
    "for i in range(1,10):\n",
    "    print(i)"
   ]
  },
  {
   "cell_type": "code",
   "execution_count": 46,
   "id": "a7510cc2-3991-4ff0-af8c-a3bb6572c9b9",
   "metadata": {},
   "outputs": [
    {
     "name": "stdout",
     "output_type": "stream",
     "text": [
      "1\n",
      "3\n",
      "5\n",
      "7\n",
      "9\n"
     ]
    }
   ],
   "source": [
    "for i in range(1,10,2):\n",
    "    print(i)"
   ]
  },
  {
   "cell_type": "code",
   "execution_count": null,
   "id": "e1fe959a-dc01-4803-a134-fa4765c5087c",
   "metadata": {},
   "outputs": [],
   "source": [
    "i = 1  # Initialize i to 1\n",
    "\n",
    "# Start a while loop that continues as long as i is less than or equal to 20\n",
    "while i <= 5:\n",
    "    print(i)  # Print the current value of i\n",
    "    i = i + 1  # Increment i by 1 for the next iteration\n"
   ]
  },
  {
   "cell_type": "code",
   "execution_count": 1,
   "id": "cd465558-dd13-4ecc-b0b0-0f316c7816c0",
   "metadata": {},
   "outputs": [
    {
     "name": "stdout",
     "output_type": "stream",
     "text": [
      "D\n",
      "a\n",
      "t\n",
      "a\n",
      " \n",
      "S\n",
      "c\n",
      "i\n",
      "e\n",
      "n\n",
      "c\n",
      "e\n"
     ]
    }
   ],
   "source": [
    "data = \"Data Science\"\n",
    "for x in data:\n",
    "    print(x)"
   ]
  },
  {
   "cell_type": "code",
   "execution_count": 2,
   "id": "5b5061dd-255f-42d6-aaea-0914b85a494f",
   "metadata": {},
   "outputs": [
    {
     "name": "stdout",
     "output_type": "stream",
     "text": [
      "1\n",
      "2\n",
      "3\n",
      "4\n",
      "5\n",
      "6\n",
      "7\n",
      "8\n",
      "9\n"
     ]
    }
   ],
   "source": [
    "for i in range(1,30):\n",
    "    if i==10:\n",
    "        break\n",
    "    print(i)"
   ]
  },
  {
   "cell_type": "code",
   "execution_count": 3,
   "id": "c77a9cb4-32b8-4cb3-9b21-7841b2b4496e",
   "metadata": {},
   "outputs": [
    {
     "name": "stdout",
     "output_type": "stream",
     "text": [
      "1\n",
      "2\n",
      "3\n",
      "4\n",
      "5\n",
      "6\n",
      "7\n",
      "8\n",
      "9\n",
      "11\n",
      "12\n",
      "13\n",
      "14\n",
      "15\n",
      "16\n",
      "17\n",
      "18\n",
      "19\n",
      "20\n",
      "21\n",
      "22\n",
      "23\n",
      "24\n",
      "25\n",
      "26\n",
      "27\n",
      "28\n",
      "29\n"
     ]
    }
   ],
   "source": [
    "for i in range(1,30):\n",
    "    if i==10:\n",
    "        continue\n",
    "    print(i)"
   ]
  },
  {
   "cell_type": "markdown",
   "id": "25591804-a7d1-4f67-99d9-c99a9fe207a5",
   "metadata": {},
   "source": [
    "List - it is like an array but type doesnt need to be declared. it is ordered,changeable, allows duplicates, mutable"
   ]
  },
  {
   "cell_type": "code",
   "execution_count": 29,
   "id": "30a33fba-9fe5-4d6a-b08c-25fd8ef01327",
   "metadata": {},
   "outputs": [],
   "source": [
    "li = [1,2,3,4,5,10,30,'ai','ds',(1,2),[1,2]]"
   ]
  },
  {
   "cell_type": "code",
   "execution_count": 30,
   "id": "1a72b9de-7693-4ce9-9959-0ca1bf2c9044",
   "metadata": {},
   "outputs": [
    {
     "data": {
      "text/plain": [
       "list"
      ]
     },
     "execution_count": 30,
     "metadata": {},
     "output_type": "execute_result"
    }
   ],
   "source": [
    "type(li)"
   ]
  },
  {
   "cell_type": "code",
   "execution_count": 31,
   "id": "33b24a7b-e9db-4c2b-8a89-75897d8be2ad",
   "metadata": {},
   "outputs": [
    {
     "data": {
      "text/plain": [
       "144"
      ]
     },
     "execution_count": 31,
     "metadata": {},
     "output_type": "execute_result"
    }
   ],
   "source": [
    "import sys\n",
    "sys.getsizeof(li) #how much memory does li take"
   ]
  },
  {
   "cell_type": "code",
   "execution_count": 32,
   "id": "a6a56926-68f3-449c-82d9-9c57adcebef4",
   "metadata": {},
   "outputs": [],
   "source": [
    "li[0]='a'"
   ]
  },
  {
   "cell_type": "code",
   "execution_count": 33,
   "id": "6f54fdc2-812e-4947-9203-3abe60840da4",
   "metadata": {},
   "outputs": [
    {
     "data": {
      "text/plain": [
       "['a', 2, 3, 4, 5, 10, 30, 'ai', 'ds', (1, 2), [1, 2]]"
      ]
     },
     "execution_count": 33,
     "metadata": {},
     "output_type": "execute_result"
    }
   ],
   "source": [
    "li"
   ]
  },
  {
   "cell_type": "code",
   "execution_count": 34,
   "id": "67cde21b-a3a2-49c1-be3d-d8013fedbf47",
   "metadata": {},
   "outputs": [
    {
     "data": {
      "text/plain": [
       "['a', 2, 3, 4, 5, 10, 30, 'ai', 'ds', (1, 2), [1, 2]]"
      ]
     },
     "execution_count": 34,
     "metadata": {},
     "output_type": "execute_result"
    }
   ],
   "source": [
    "li2 = li\n",
    "li2"
   ]
  },
  {
   "cell_type": "code",
   "execution_count": 35,
   "id": "c705bc26-142f-4d4e-94a7-2a6e813a330c",
   "metadata": {},
   "outputs": [],
   "source": [
    "li2.append(100)"
   ]
  },
  {
   "cell_type": "code",
   "execution_count": 36,
   "id": "001d5bb6-9fa8-4999-ae2f-2b74bf5b2571",
   "metadata": {},
   "outputs": [
    {
     "data": {
      "text/plain": [
       "['a', 2, 3, 4, 5, 10, 30, 'ai', 'ds', (1, 2), [1, 2], 100]"
      ]
     },
     "execution_count": 36,
     "metadata": {},
     "output_type": "execute_result"
    }
   ],
   "source": [
    "li2"
   ]
  },
  {
   "cell_type": "code",
   "execution_count": 37,
   "id": "e629d629-3973-4529-8fd0-00630eb41c40",
   "metadata": {},
   "outputs": [
    {
     "data": {
      "text/plain": [
       "['a', 2, 3, 4, 5, 10, 30, 'ai', 'ds', (1, 2), [1, 2], 100]"
      ]
     },
     "execution_count": 37,
     "metadata": {},
     "output_type": "execute_result"
    }
   ],
   "source": [
    "li"
   ]
  },
  {
   "cell_type": "code",
   "execution_count": 38,
   "id": "84fc1180-c713-4de6-b51a-3f76a0d1f747",
   "metadata": {},
   "outputs": [
    {
     "data": {
      "text/plain": [
       "['a', 2, 3, 4, 5, 10, 30, 'ai', 'ds', (1, 2), [1, 2], 100]"
      ]
     },
     "execution_count": 38,
     "metadata": {},
     "output_type": "execute_result"
    }
   ],
   "source": [
    "li3 = li2.copy()\n",
    "li3"
   ]
  },
  {
   "cell_type": "code",
   "execution_count": 39,
   "id": "fe942b7c-5707-4b1a-a3c3-f4e99dc8ddf9",
   "metadata": {},
   "outputs": [],
   "source": [
    "li2.append(100)\n"
   ]
  },
  {
   "cell_type": "code",
   "execution_count": 40,
   "id": "b8e699a9-fe5f-49e0-bcc2-28f56748908a",
   "metadata": {},
   "outputs": [
    {
     "data": {
      "text/plain": [
       "['a', 2, 3, 4, 5, 10, 30, 'ai', 'ds', (1, 2), [1, 2], 100, 100]"
      ]
     },
     "execution_count": 40,
     "metadata": {},
     "output_type": "execute_result"
    }
   ],
   "source": [
    "li2"
   ]
  },
  {
   "cell_type": "code",
   "execution_count": 41,
   "id": "3248117a-5461-47d0-976a-aebc87990a87",
   "metadata": {},
   "outputs": [
    {
     "data": {
      "text/plain": [
       "['a', 2, 3, 4, 5, 10, 30, 'ai', 'ds', (1, 2), [1, 2], 100]"
      ]
     },
     "execution_count": 41,
     "metadata": {},
     "output_type": "execute_result"
    }
   ],
   "source": [
    "li3"
   ]
  },
  {
   "cell_type": "code",
   "execution_count": 43,
   "id": "1e87d3b2-7b71-4f44-a36c-e495b7fa5c4b",
   "metadata": {},
   "outputs": [
    {
     "data": {
      "text/plain": [
       "'a'"
      ]
     },
     "execution_count": 43,
     "metadata": {},
     "output_type": "execute_result"
    }
   ],
   "source": [
    "li[0]\n"
   ]
  },
  {
   "cell_type": "code",
   "execution_count": 44,
   "id": "6e8ad6b7-f536-4193-b3ff-b2802a8e4591",
   "metadata": {},
   "outputs": [
    {
     "data": {
      "text/plain": [
       "100"
      ]
     },
     "execution_count": 44,
     "metadata": {},
     "output_type": "execute_result"
    }
   ],
   "source": [
    "li[-1]"
   ]
  },
  {
   "cell_type": "code",
   "execution_count": 45,
   "id": "8aabdb66-df9a-486a-b30c-dec46683a2c5",
   "metadata": {},
   "outputs": [
    {
     "data": {
      "text/plain": [
       "[4, 5, 10, 30]"
      ]
     },
     "execution_count": 45,
     "metadata": {},
     "output_type": "execute_result"
    }
   ],
   "source": [
    "li[3:7]"
   ]
  },
  {
   "cell_type": "code",
   "execution_count": 46,
   "id": "c82fdcac-1a43-47b0-b2e8-03ceb470cbd9",
   "metadata": {},
   "outputs": [
    {
     "data": {
      "text/plain": [
       "2"
      ]
     },
     "execution_count": 46,
     "metadata": {},
     "output_type": "execute_result"
    }
   ],
   "source": [
    "li3[-2][1]"
   ]
  },
  {
   "cell_type": "markdown",
   "id": "e9ef6fa6-791a-4baa-aa9e-01f8bd82a352",
   "metadata": {},
   "source": [
    "List Methods"
   ]
  },
  {
   "cell_type": "code",
   "execution_count": 47,
   "id": "843cc929-94d4-432d-a1e7-0ad95b4b7c2e",
   "metadata": {},
   "outputs": [],
   "source": [
    "li.insert(2,'ai') #inserting ai in index 2 so 3rd position"
   ]
  },
  {
   "cell_type": "code",
   "execution_count": 48,
   "id": "2a2b78d1-28ca-4894-9b80-f6a8c8045f12",
   "metadata": {},
   "outputs": [
    {
     "data": {
      "text/plain": [
       "['a', 2, 'ai', 3, 4, 5, 10, 30, 'ai', 'ds', (1, 2), [1, 2], 100, 100]"
      ]
     },
     "execution_count": 48,
     "metadata": {},
     "output_type": "execute_result"
    }
   ],
   "source": [
    "li"
   ]
  },
  {
   "cell_type": "code",
   "execution_count": 56,
   "id": "fd6b9fbf-da0d-49d6-a680-3e8f25faa4c7",
   "metadata": {},
   "outputs": [],
   "source": [
    "li = [3,6,1,7,9,2,5]\n",
    "li.sort()"
   ]
  },
  {
   "cell_type": "code",
   "execution_count": 57,
   "id": "1c6e4fc5-d4a2-47ac-b1ed-11ae0e62078a",
   "metadata": {},
   "outputs": [
    {
     "data": {
      "text/plain": [
       "[1, 2, 3, 5, 6, 7, 9]"
      ]
     },
     "execution_count": 57,
     "metadata": {},
     "output_type": "execute_result"
    }
   ],
   "source": [
    "li\n"
   ]
  },
  {
   "cell_type": "code",
   "execution_count": 58,
   "id": "f1d69dc2-fa88-4094-9207-d283122ea865",
   "metadata": {},
   "outputs": [],
   "source": [
    "li.remove(9) #remove by value"
   ]
  },
  {
   "cell_type": "code",
   "execution_count": 59,
   "id": "310b6b36-89c2-43e7-906c-8af86d3cdfd3",
   "metadata": {},
   "outputs": [
    {
     "data": {
      "text/plain": [
       "[1, 2, 3, 5, 6, 7]"
      ]
     },
     "execution_count": 59,
     "metadata": {},
     "output_type": "execute_result"
    }
   ],
   "source": [
    "li"
   ]
  },
  {
   "cell_type": "code",
   "execution_count": 60,
   "id": "07550c43-f579-434a-95b5-f1e9d105a6b0",
   "metadata": {},
   "outputs": [
    {
     "data": {
      "text/plain": [
       "3"
      ]
     },
     "execution_count": 60,
     "metadata": {},
     "output_type": "execute_result"
    }
   ],
   "source": [
    "li.pop(2) #remove by index"
   ]
  },
  {
   "cell_type": "code",
   "execution_count": 61,
   "id": "2864ca1b-3a31-4cfd-af36-4260bf5063f3",
   "metadata": {},
   "outputs": [
    {
     "data": {
      "text/plain": [
       "[1, 2, 5, 6, 7]"
      ]
     },
     "execution_count": 61,
     "metadata": {},
     "output_type": "execute_result"
    }
   ],
   "source": [
    "li\n"
   ]
  },
  {
   "cell_type": "code",
   "execution_count": 62,
   "id": "7199afd3-5ccb-4788-985c-fda325919184",
   "metadata": {},
   "outputs": [],
   "source": [
    "del li[0]"
   ]
  },
  {
   "cell_type": "code",
   "execution_count": 63,
   "id": "578380af-863b-42d3-9e52-d472236fb0e4",
   "metadata": {},
   "outputs": [
    {
     "data": {
      "text/plain": [
       "[2, 5, 6, 7]"
      ]
     },
     "execution_count": 63,
     "metadata": {},
     "output_type": "execute_result"
    }
   ],
   "source": [
    "li"
   ]
  },
  {
   "cell_type": "code",
   "execution_count": 64,
   "id": "64bac666-df92-4a21-b0a2-678f50e08b4b",
   "metadata": {},
   "outputs": [
    {
     "data": {
      "text/plain": [
       "1"
      ]
     },
     "execution_count": 64,
     "metadata": {},
     "output_type": "execute_result"
    }
   ],
   "source": [
    "li.count(2)"
   ]
  },
  {
   "cell_type": "code",
   "execution_count": 65,
   "id": "f6542677-0f96-4e04-8078-8dfb96fbb581",
   "metadata": {},
   "outputs": [],
   "source": [
    "li.reverse()"
   ]
  },
  {
   "cell_type": "code",
   "execution_count": 66,
   "id": "9def37fc-d0d4-47aa-a3ac-a56db980c6d1",
   "metadata": {},
   "outputs": [
    {
     "data": {
      "text/plain": [
       "[7, 6, 5, 2]"
      ]
     },
     "execution_count": 66,
     "metadata": {},
     "output_type": "execute_result"
    }
   ],
   "source": [
    "li"
   ]
  },
  {
   "cell_type": "code",
   "execution_count": 67,
   "id": "06d3b30c-b55a-44f5-be68-dec6c71a3c61",
   "metadata": {},
   "outputs": [],
   "source": [
    "li.extend([20,50])"
   ]
  },
  {
   "cell_type": "code",
   "execution_count": 68,
   "id": "39e726ef-4d54-4812-a41e-93922493f826",
   "metadata": {},
   "outputs": [
    {
     "data": {
      "text/plain": [
       "[7, 6, 5, 2, 20, 50]"
      ]
     },
     "execution_count": 68,
     "metadata": {},
     "output_type": "execute_result"
    }
   ],
   "source": [
    "li"
   ]
  },
  {
   "cell_type": "code",
   "execution_count": 69,
   "id": "c663c754-c05d-41af-b7f7-95711866fd63",
   "metadata": {},
   "outputs": [
    {
     "name": "stdout",
     "output_type": "stream",
     "text": [
      "7\n",
      "5\n"
     ]
    },
    {
     "data": {
      "text/plain": [
       "[None, None]"
      ]
     },
     "execution_count": 69,
     "metadata": {},
     "output_type": "execute_result"
    }
   ],
   "source": [
    "[print(i) for i in li if (i%2==1)] #odd numbers find out"
   ]
  },
  {
   "cell_type": "markdown",
   "id": "b48f5a3b-e178-4d36-a89e-636bb683c858",
   "metadata": {},
   "source": [
    "Tuple"
   ]
  },
  {
   "cell_type": "markdown",
   "id": "6155a662-5f68-4947-990b-daa0a7543e70",
   "metadata": {},
   "source": [
    "immutable data structure means you cannot add or delete an element once assigned . string, tuple"
   ]
  },
  {
   "cell_type": "code",
   "execution_count": 70,
   "id": "2823dd6a-2f02-4902-a3a8-6d6976b629dc",
   "metadata": {},
   "outputs": [],
   "source": [
    "tup = tuple('data science')"
   ]
  },
  {
   "cell_type": "code",
   "execution_count": 71,
   "id": "a98d10af-3d24-4601-ba3e-88575a6fd7e3",
   "metadata": {},
   "outputs": [
    {
     "data": {
      "text/plain": [
       "tuple"
      ]
     },
     "execution_count": 71,
     "metadata": {},
     "output_type": "execute_result"
    }
   ],
   "source": [
    "type(tup)"
   ]
  },
  {
   "cell_type": "code",
   "execution_count": 72,
   "id": "8acce002-2d21-4b20-9fe4-7c90d578bb15",
   "metadata": {},
   "outputs": [],
   "source": [
    "tup1 = ('data',)"
   ]
  },
  {
   "cell_type": "code",
   "execution_count": 73,
   "id": "bdba5d3d-9ab5-404d-8161-70d2666a3e7c",
   "metadata": {},
   "outputs": [
    {
     "data": {
      "text/plain": [
       "tuple"
      ]
     },
     "execution_count": 73,
     "metadata": {},
     "output_type": "execute_result"
    }
   ],
   "source": [
    "type(tup1)"
   ]
  },
  {
   "cell_type": "code",
   "execution_count": 74,
   "id": "236f9340-a319-4606-9fa5-2cf9cfa3e640",
   "metadata": {},
   "outputs": [],
   "source": [
    "tup2 = ('data')"
   ]
  },
  {
   "cell_type": "code",
   "execution_count": 75,
   "id": "58ef194a-c439-4b2a-a82b-c11a90b30545",
   "metadata": {},
   "outputs": [
    {
     "data": {
      "text/plain": [
       "str"
      ]
     },
     "execution_count": 75,
     "metadata": {},
     "output_type": "execute_result"
    }
   ],
   "source": [
    "type(tup2)"
   ]
  },
  {
   "cell_type": "code",
   "execution_count": 76,
   "id": "c1b7c9c6-35e5-4734-b154-10e61959eec9",
   "metadata": {},
   "outputs": [],
   "source": [
    "tup3 = list(tup)"
   ]
  },
  {
   "cell_type": "code",
   "execution_count": 77,
   "id": "a73be1fd-8264-417c-9626-a7e5948507a7",
   "metadata": {},
   "outputs": [
    {
     "data": {
      "text/plain": [
       "['d', 'a', 't', 'a', ' ', 's', 'c', 'i', 'e', 'n', 'c', 'e']"
      ]
     },
     "execution_count": 77,
     "metadata": {},
     "output_type": "execute_result"
    }
   ],
   "source": [
    "tup3"
   ]
  },
  {
   "cell_type": "code",
   "execution_count": null,
   "id": "a5e31fd7-6490-44ba-872f-7c9203494ece",
   "metadata": {},
   "outputs": [],
   "source": [
    "tup = tuple(tup2)"
   ]
  },
  {
   "cell_type": "code",
   "execution_count": 78,
   "id": "dad8c5b3-02de-427f-a7b2-d1121fe1634b",
   "metadata": {},
   "outputs": [
    {
     "data": {
      "text/plain": [
       "('d', 'a', 't', 'a', ' ', 's', 'c', 'i', 'e', 'n', 'c', 'e')"
      ]
     },
     "execution_count": 78,
     "metadata": {},
     "output_type": "execute_result"
    }
   ],
   "source": [
    "tup"
   ]
  },
  {
   "cell_type": "markdown",
   "id": "208b318a-178d-48ec-aece-4d2cfab66246",
   "metadata": {},
   "source": [
    "slicing technique"
   ]
  },
  {
   "cell_type": "code",
   "execution_count": 79,
   "id": "48f3df37-c2c2-4fa0-8d8c-537107219903",
   "metadata": {},
   "outputs": [],
   "source": [
    "tup4 = tup[0:2]"
   ]
  },
  {
   "cell_type": "code",
   "execution_count": 80,
   "id": "0b448cfd-0333-401c-98bf-8cbc8aa01b66",
   "metadata": {},
   "outputs": [
    {
     "data": {
      "text/plain": [
       "('d', 'a')"
      ]
     },
     "execution_count": 80,
     "metadata": {},
     "output_type": "execute_result"
    }
   ],
   "source": [
    "tup4"
   ]
  },
  {
   "cell_type": "code",
   "execution_count": 81,
   "id": "4ee24b3e-4da9-4ce4-8329-15f066dcefe3",
   "metadata": {},
   "outputs": [],
   "source": [
    "tup5 = tup[0:3]+tup[4:7]"
   ]
  },
  {
   "cell_type": "code",
   "execution_count": 82,
   "id": "fda7d3c3-1fa2-4138-a5a7-7f2f3656ff89",
   "metadata": {},
   "outputs": [
    {
     "data": {
      "text/plain": [
       "('d', 'a', 't', ' ', 's', 'c')"
      ]
     },
     "execution_count": 82,
     "metadata": {},
     "output_type": "execute_result"
    }
   ],
   "source": [
    "tup5"
   ]
  },
  {
   "cell_type": "code",
   "execution_count": 83,
   "id": "e2d8447a-5542-4010-a5ea-74035921acab",
   "metadata": {},
   "outputs": [
    {
     "data": {
      "text/plain": [
       "tuple"
      ]
     },
     "execution_count": 83,
     "metadata": {},
     "output_type": "execute_result"
    }
   ],
   "source": [
    "type(tup5)"
   ]
  },
  {
   "cell_type": "markdown",
   "id": "e24d917a-3bc0-4e67-bc91-821749212254",
   "metadata": {},
   "source": [
    "Set"
   ]
  },
  {
   "cell_type": "markdown",
   "id": "a674c789-1511-4a0d-8c10-a0c03c3542d0",
   "metadata": {},
   "source": [
    "Unordered, mutable,Duplicates Not Allowed, cannot be accessed through indexing"
   ]
  },
  {
   "cell_type": "code",
   "execution_count": 104,
   "id": "0abc464d-cacf-4584-b0f0-1e74358a4175",
   "metadata": {},
   "outputs": [],
   "source": [
    "s1 = {1,2,333,4,5,6}\n",
    "s2 = {3,4,5,6,7,8,9}"
   ]
  },
  {
   "cell_type": "code",
   "execution_count": 105,
   "id": "1c727822-0496-4a47-b3de-d597139aa1bd",
   "metadata": {},
   "outputs": [
    {
     "data": {
      "text/plain": [
       "{1, 3, 6, 7, 22}"
      ]
     },
     "execution_count": 105,
     "metadata": {},
     "output_type": "execute_result"
    }
   ],
   "source": [
    "s1 = {1,22,22,3,6,7}\n",
    "s1"
   ]
  },
  {
   "cell_type": "code",
   "execution_count": 106,
   "id": "3b114601-c6e9-4669-a81b-fd592892b4ff",
   "metadata": {},
   "outputs": [
    {
     "data": {
      "text/plain": [
       "{1, 3, 6, 7, 10, 22}"
      ]
     },
     "execution_count": 106,
     "metadata": {},
     "output_type": "execute_result"
    }
   ],
   "source": [
    "s1.add(10)\n",
    "s1"
   ]
  },
  {
   "cell_type": "code",
   "execution_count": 107,
   "id": "d47f280f-25ef-484b-b465-f3ca3ba8d2c3",
   "metadata": {},
   "outputs": [
    {
     "data": {
      "text/plain": [
       "{3, 6, 7}"
      ]
     },
     "execution_count": 107,
     "metadata": {},
     "output_type": "execute_result"
    }
   ],
   "source": [
    "#intersection of set\n",
    "s1.intersection(s2)\n"
   ]
  },
  {
   "cell_type": "code",
   "execution_count": 108,
   "id": "cb0888e3-d69d-4538-9b8d-3cb48dd6ab1f",
   "metadata": {},
   "outputs": [
    {
     "data": {
      "text/plain": [
       "{1, 3, 4, 5, 6, 7, 8, 9, 10, 22}"
      ]
     },
     "execution_count": 108,
     "metadata": {},
     "output_type": "execute_result"
    }
   ],
   "source": [
    "#union\n",
    "s1.union(s2)"
   ]
  },
  {
   "cell_type": "code",
   "execution_count": 109,
   "id": "53fd5769-c2cc-48d2-9f75-3dd25f5a0265",
   "metadata": {},
   "outputs": [
    {
     "data": {
      "text/plain": [
       "{3, 6, 7}"
      ]
     },
     "execution_count": 109,
     "metadata": {},
     "output_type": "execute_result"
    }
   ],
   "source": [
    "s1&s2 #intersection another way"
   ]
  },
  {
   "cell_type": "code",
   "execution_count": 110,
   "id": "5fea7047-d7d2-4cdf-a723-bb5ded1d1682",
   "metadata": {},
   "outputs": [
    {
     "data": {
      "text/plain": [
       "{1, 3, 4, 5, 6, 7, 8, 9, 10, 22}"
      ]
     },
     "execution_count": 110,
     "metadata": {},
     "output_type": "execute_result"
    }
   ],
   "source": [
    "s1|s2 #union"
   ]
  },
  {
   "cell_type": "code",
   "execution_count": 111,
   "id": "ccbdae53-0453-495b-bf98-e834a7534ebe",
   "metadata": {},
   "outputs": [
    {
     "data": {
      "text/plain": [
       "{1, 3, 6, 7, 10, 11, 22}"
      ]
     },
     "execution_count": 111,
     "metadata": {},
     "output_type": "execute_result"
    }
   ],
   "source": [
    "s1.add(11)\n",
    "s1"
   ]
  },
  {
   "cell_type": "code",
   "execution_count": 112,
   "id": "442b9f6e-fa45-4d64-baae-76d02966d020",
   "metadata": {},
   "outputs": [],
   "source": [
    "s1.remove(11) #remove 11"
   ]
  },
  {
   "cell_type": "code",
   "execution_count": 113,
   "id": "bce9d793-f4ed-4a0b-9da5-3cbdeb4ddbd5",
   "metadata": {},
   "outputs": [
    {
     "data": {
      "text/plain": [
       "{1, 3, 6, 7, 10, 22}"
      ]
     },
     "execution_count": 113,
     "metadata": {},
     "output_type": "execute_result"
    }
   ],
   "source": [
    "s1"
   ]
  },
  {
   "cell_type": "code",
   "execution_count": 114,
   "id": "d06f8d16-1055-40aa-b1db-8336df2b0a8e",
   "metadata": {},
   "outputs": [],
   "source": [
    "s1.discard(4) #if the value is there then remove"
   ]
  },
  {
   "cell_type": "code",
   "execution_count": 116,
   "id": "27b6bfbd-3581-4ca5-afab-5a929680e97d",
   "metadata": {},
   "outputs": [],
   "source": [
    "s1.clear()"
   ]
  },
  {
   "cell_type": "code",
   "execution_count": 117,
   "id": "ea70ca9d-ae3f-4e0c-95af-1a62ac6f59c3",
   "metadata": {},
   "outputs": [
    {
     "data": {
      "text/plain": [
       "set()"
      ]
     },
     "execution_count": 117,
     "metadata": {},
     "output_type": "execute_result"
    }
   ],
   "source": [
    "s1"
   ]
  },
  {
   "cell_type": "code",
   "execution_count": 118,
   "id": "a2c028d6-6b63-4854-9d44-26648940e078",
   "metadata": {},
   "outputs": [],
   "source": [
    "fr = frozenset(s2) # we cannot add any elements. Immutable"
   ]
  },
  {
   "cell_type": "code",
   "execution_count": 119,
   "id": "2c5b5c1c-e478-4397-b38d-c6320593120e",
   "metadata": {},
   "outputs": [
    {
     "ename": "AttributeError",
     "evalue": "'frozenset' object has no attribute 'add'",
     "output_type": "error",
     "traceback": [
      "\u001b[1;31m---------------------------------------------------------------------------\u001b[0m",
      "\u001b[1;31mAttributeError\u001b[0m                            Traceback (most recent call last)",
      "Cell \u001b[1;32mIn[119], line 1\u001b[0m\n\u001b[1;32m----> 1\u001b[0m \u001b[43mfr\u001b[49m\u001b[38;5;241;43m.\u001b[39;49m\u001b[43madd\u001b[49m(\u001b[38;5;241m10\u001b[39m)\n",
      "\u001b[1;31mAttributeError\u001b[0m: 'frozenset' object has no attribute 'add'"
     ]
    }
   ],
   "source": [
    "fr.add(10)"
   ]
  },
  {
   "cell_type": "markdown",
   "id": "01722001-7c27-427f-ab14-5b880e12412c",
   "metadata": {},
   "source": [
    "Array [numpy] will learn in numpy\n"
   ]
  },
  {
   "cell_type": "markdown",
   "id": "1025c2bc-5a54-4468-bfec-155a2bee693f",
   "metadata": {},
   "source": [
    "Ordered\n",
    ",Duplicate values allowed\n",
    ",changeable, you have to keep same category value"
   ]
  },
  {
   "cell_type": "markdown",
   "id": "6c552114-73f7-491f-b40b-38ddbee3d9ce",
   "metadata": {},
   "source": [
    "Dictionary{}\n",
    "ordered, changeable, does not allow duplicates"
   ]
  },
  {
   "cell_type": "code",
   "execution_count": 120,
   "id": "fef9c8f8-6bf8-4ef4-9ebb-1b0cf87ce0c5",
   "metadata": {},
   "outputs": [],
   "source": [
    "dic = {\n",
    "    'name':'Anjoom',\n",
    "    'age':23,\n",
    "    'university':'NSU'\n",
    "}"
   ]
  },
  {
   "cell_type": "code",
   "execution_count": 121,
   "id": "cbf114ed-ad0b-4c6f-a9e6-d0dd0a882499",
   "metadata": {},
   "outputs": [
    {
     "data": {
      "text/plain": [
       "{'name': 'Anjoom', 'age': 23, 'university': 'NSU'}"
      ]
     },
     "execution_count": 121,
     "metadata": {},
     "output_type": "execute_result"
    }
   ],
   "source": [
    "dic"
   ]
  },
  {
   "cell_type": "code",
   "execution_count": 123,
   "id": "7dcd3e81-b375-4f9c-b348-be08c6d372ee",
   "metadata": {},
   "outputs": [
    {
     "data": {
      "text/plain": [
       "dict_keys(['name', 'age', 'university'])"
      ]
     },
     "execution_count": 123,
     "metadata": {},
     "output_type": "execute_result"
    }
   ],
   "source": [
    "dic.keys()"
   ]
  },
  {
   "cell_type": "code",
   "execution_count": 124,
   "id": "afe475ee-3276-4066-ae0c-e312d571fee1",
   "metadata": {},
   "outputs": [
    {
     "data": {
      "text/plain": [
       "dict_values(['Anjoom', 23, 'NSU'])"
      ]
     },
     "execution_count": 124,
     "metadata": {},
     "output_type": "execute_result"
    }
   ],
   "source": [
    "dic.values()"
   ]
  },
  {
   "cell_type": "code",
   "execution_count": 126,
   "id": "6d0ce5b9-bddf-418a-a6ca-8f8619cc96b2",
   "metadata": {},
   "outputs": [
    {
     "name": "stdin",
     "output_type": "stream",
     "text": [
      " 1\n",
      " name\n",
      " Anjoom\n"
     ]
    },
    {
     "name": "stdout",
     "output_type": "stream",
     "text": [
      "{'name': 'Anjoom'}\n"
     ]
    }
   ],
   "source": [
    "x = int(input())\n",
    "dic = {}\n",
    "for i in range(x):\n",
    "    keys = input()\n",
    "    value = input()\n",
    "    dic[keys]=value\n",
    "print(dic)"
   ]
  },
  {
   "cell_type": "code",
   "execution_count": 127,
   "id": "c308b6da-c988-44dd-8f29-5219ab7a0a1f",
   "metadata": {},
   "outputs": [],
   "source": [
    "dic['age']=23"
   ]
  },
  {
   "cell_type": "code",
   "execution_count": 128,
   "id": "a4de9d51-f4d0-4e07-aa7b-0ac4131691ab",
   "metadata": {},
   "outputs": [
    {
     "data": {
      "text/plain": [
       "{'name': 'Anjoom', 'age': 23}"
      ]
     },
     "execution_count": 128,
     "metadata": {},
     "output_type": "execute_result"
    }
   ],
   "source": [
    "dic"
   ]
  },
  {
   "cell_type": "markdown",
   "id": "38775123-db43-483a-8542-0c7e169ecb2f",
   "metadata": {},
   "source": [
    "Dataframe -  used for statistical data cleaning , preprocessing #row column\n",
    "\n",
    "    \n",
    "Numpy is used for numerical calculation"
   ]
  },
  {
   "cell_type": "markdown",
   "id": "7d7b1aac-f194-46e5-a43d-b622a057a77f",
   "metadata": {},
   "source": [
    "row column"
   ]
  },
  {
   "cell_type": "code",
   "execution_count": 131,
   "id": "6f81dabf-c26f-4960-8656-25a5483ecfee",
   "metadata": {},
   "outputs": [
    {
     "name": "stdout",
     "output_type": "stream",
     "text": [
      "Collecting pandas\n",
      "  Downloading pandas-2.1.3-cp311-cp311-win_amd64.whl (10.6 MB)\n",
      "     ---------------------------------------- 10.6/10.6 MB 2.5 MB/s eta 0:00:00\n",
      "Requirement already satisfied: numpy<2,>=1.23.2 in c:\\python311\\lib\\site-packages (from pandas) (1.26.1)\n",
      "Requirement already satisfied: python-dateutil>=2.8.2 in c:\\users\\afzaal\\appdata\\roaming\\python\\python311\\site-packages (from pandas) (2.8.2)\n",
      "Collecting pytz>=2020.1\n",
      "  Downloading pytz-2023.3.post1-py2.py3-none-any.whl (502 kB)\n",
      "     -------------------------------------- 502.5/502.5 kB 3.5 MB/s eta 0:00:00\n",
      "Collecting tzdata>=2022.1\n",
      "  Downloading tzdata-2023.3-py2.py3-none-any.whl (341 kB)\n",
      "     -------------------------------------- 341.8/341.8 kB 3.0 MB/s eta 0:00:00\n",
      "Requirement already satisfied: six>=1.5 in c:\\users\\afzaal\\appdata\\roaming\\python\\python311\\site-packages (from python-dateutil>=2.8.2->pandas) (1.16.0)\n",
      "Installing collected packages: pytz, tzdata, pandas\n",
      "Successfully installed pandas-2.1.3 pytz-2023.3.post1 tzdata-2023.3\n"
     ]
    },
    {
     "name": "stderr",
     "output_type": "stream",
     "text": [
      "\n",
      "[notice] A new release of pip available: 22.3.1 -> 23.3.1\n",
      "[notice] To update, run: python.exe -m pip install --upgrade pip\n"
     ]
    }
   ],
   "source": [
    "!pip install pandas"
   ]
  },
  {
   "cell_type": "code",
   "execution_count": 133,
   "id": "8c3c4ea5-e00c-4591-9bdb-759f3ff8e483",
   "metadata": {},
   "outputs": [],
   "source": [
    "import pandas as pd"
   ]
  },
  {
   "cell_type": "code",
   "execution_count": 136,
   "id": "669adc22-5df7-4b26-b5c2-ad243666ee61",
   "metadata": {},
   "outputs": [
    {
     "data": {
      "text/html": [
       "<div>\n",
       "<style scoped>\n",
       "    .dataframe tbody tr th:only-of-type {\n",
       "        vertical-align: middle;\n",
       "    }\n",
       "\n",
       "    .dataframe tbody tr th {\n",
       "        vertical-align: top;\n",
       "    }\n",
       "\n",
       "    .dataframe thead th {\n",
       "        text-align: right;\n",
       "    }\n",
       "</style>\n",
       "<table border=\"1\" class=\"dataframe\">\n",
       "  <thead>\n",
       "    <tr style=\"text-align: right;\">\n",
       "      <th></th>\n",
       "      <th>0</th>\n",
       "    </tr>\n",
       "  </thead>\n",
       "  <tbody>\n",
       "    <tr>\n",
       "      <th>0</th>\n",
       "      <td>Anjoom</td>\n",
       "    </tr>\n",
       "  </tbody>\n",
       "</table>\n",
       "</div>"
      ],
      "text/plain": [
       "        0\n",
       "0  Anjoom"
      ]
     },
     "execution_count": 136,
     "metadata": {},
     "output_type": "execute_result"
    }
   ],
   "source": [
    "li = ['Anjoom']\n",
    "pd.DataFrame(li)"
   ]
  },
  {
   "cell_type": "code",
   "execution_count": 140,
   "id": "0faf2d36-9aa1-4ebd-a45c-89fc5817a405",
   "metadata": {},
   "outputs": [
    {
     "data": {
      "text/html": [
       "<div>\n",
       "<style scoped>\n",
       "    .dataframe tbody tr th:only-of-type {\n",
       "        vertical-align: middle;\n",
       "    }\n",
       "\n",
       "    .dataframe tbody tr th {\n",
       "        vertical-align: top;\n",
       "    }\n",
       "\n",
       "    .dataframe thead th {\n",
       "        text-align: right;\n",
       "    }\n",
       "</style>\n",
       "<table border=\"1\" class=\"dataframe\">\n",
       "  <thead>\n",
       "    <tr style=\"text-align: right;\">\n",
       "      <th></th>\n",
       "      <th>name</th>\n",
       "    </tr>\n",
       "  </thead>\n",
       "  <tbody>\n",
       "    <tr>\n",
       "      <th>0</th>\n",
       "      <td>Anjoom</td>\n",
       "    </tr>\n",
       "  </tbody>\n",
       "</table>\n",
       "</div>"
      ],
      "text/plain": [
       "     name\n",
       "0  Anjoom"
      ]
     },
     "execution_count": 140,
     "metadata": {},
     "output_type": "execute_result"
    }
   ],
   "source": [
    "df=pd.DataFrame(li,columns=['name'])\n",
    "df"
   ]
  },
  {
   "cell_type": "code",
   "execution_count": 141,
   "id": "814c42b3-03fb-43af-acf4-d8ee3986a444",
   "metadata": {},
   "outputs": [
    {
     "data": {
      "text/plain": [
       "(1, 1)"
      ]
     },
     "execution_count": 141,
     "metadata": {},
     "output_type": "execute_result"
    }
   ],
   "source": [
    "df.shape"
   ]
  },
  {
   "cell_type": "code",
   "execution_count": 153,
   "id": "60d95e36-b6b0-477b-a3a2-84c1e89b7586",
   "metadata": {},
   "outputs": [
    {
     "data": {
      "text/plain": [
       "{'name': ['Anjoom', 'Anaiza'], 'age': [23, 7], 'study': ['a', 'b']}"
      ]
     },
     "execution_count": 153,
     "metadata": {},
     "output_type": "execute_result"
    }
   ],
   "source": [
    "dic = {\n",
    "    'name' : ['Anjoom', 'Anaiza'],\n",
    "    'age' : [23,7],\n",
    "    'study':['a','b']\n",
    "}\n",
    "dic"
   ]
  },
  {
   "cell_type": "code",
   "execution_count": 154,
   "id": "6c093479-156d-4beb-8ce5-38cb1c69423c",
   "metadata": {},
   "outputs": [
    {
     "data": {
      "text/html": [
       "<div>\n",
       "<style scoped>\n",
       "    .dataframe tbody tr th:only-of-type {\n",
       "        vertical-align: middle;\n",
       "    }\n",
       "\n",
       "    .dataframe tbody tr th {\n",
       "        vertical-align: top;\n",
       "    }\n",
       "\n",
       "    .dataframe thead th {\n",
       "        text-align: right;\n",
       "    }\n",
       "</style>\n",
       "<table border=\"1\" class=\"dataframe\">\n",
       "  <thead>\n",
       "    <tr style=\"text-align: right;\">\n",
       "      <th></th>\n",
       "      <th>name</th>\n",
       "      <th>age</th>\n",
       "      <th>study</th>\n",
       "    </tr>\n",
       "  </thead>\n",
       "  <tbody>\n",
       "    <tr>\n",
       "      <th>0</th>\n",
       "      <td>Anjoom</td>\n",
       "      <td>23</td>\n",
       "      <td>a</td>\n",
       "    </tr>\n",
       "    <tr>\n",
       "      <th>1</th>\n",
       "      <td>Anaiza</td>\n",
       "      <td>7</td>\n",
       "      <td>b</td>\n",
       "    </tr>\n",
       "  </tbody>\n",
       "</table>\n",
       "</div>"
      ],
      "text/plain": [
       "     name  age study\n",
       "0  Anjoom   23     a\n",
       "1  Anaiza    7     b"
      ]
     },
     "execution_count": 154,
     "metadata": {},
     "output_type": "execute_result"
    }
   ],
   "source": [
    "df2 =  pd.DataFrame(dic)\n",
    "df2"
   ]
  },
  {
   "cell_type": "code",
   "execution_count": 155,
   "id": "3f634e7b-378d-431e-90c1-171b026f9593",
   "metadata": {},
   "outputs": [
    {
     "data": {
      "text/plain": [
       "(2, 3)"
      ]
     },
     "execution_count": 155,
     "metadata": {},
     "output_type": "execute_result"
    }
   ],
   "source": [
    "df2.shape"
   ]
  },
  {
   "cell_type": "code",
   "execution_count": 156,
   "id": "d4d2dcf8-4c65-4f15-afe7-4c38eac1f793",
   "metadata": {},
   "outputs": [
    {
     "data": {
      "text/plain": [
       "0    Anjoom\n",
       "1    Anaiza\n",
       "Name: name, dtype: object"
      ]
     },
     "execution_count": 156,
     "metadata": {},
     "output_type": "execute_result"
    }
   ],
   "source": [
    "df2['name']"
   ]
  },
  {
   "cell_type": "code",
   "execution_count": 157,
   "id": "200e7964-29c9-45da-95a6-8f36ce5ce3c3",
   "metadata": {},
   "outputs": [],
   "source": [
    "df2.to_csv('data.csv')"
   ]
  },
  {
   "cell_type": "code",
   "execution_count": 161,
   "id": "3510037f-58b9-43bd-bf03-64369ef0450d",
   "metadata": {},
   "outputs": [],
   "source": [
    "df = pd.read_csv('data.csv') #if extention is xslx then read_excel\n",
    "#df = pd.read_csv('data.csv', sep=';')"
   ]
  },
  {
   "cell_type": "code",
   "execution_count": 162,
   "id": "2bc9a6d9-535d-4c1d-aec5-4bf3ab7cb412",
   "metadata": {},
   "outputs": [
    {
     "data": {
      "text/html": [
       "<div>\n",
       "<style scoped>\n",
       "    .dataframe tbody tr th:only-of-type {\n",
       "        vertical-align: middle;\n",
       "    }\n",
       "\n",
       "    .dataframe tbody tr th {\n",
       "        vertical-align: top;\n",
       "    }\n",
       "\n",
       "    .dataframe thead th {\n",
       "        text-align: right;\n",
       "    }\n",
       "</style>\n",
       "<table border=\"1\" class=\"dataframe\">\n",
       "  <thead>\n",
       "    <tr style=\"text-align: right;\">\n",
       "      <th></th>\n",
       "      <th>Unnamed: 0</th>\n",
       "      <th>name</th>\n",
       "      <th>age</th>\n",
       "      <th>study</th>\n",
       "    </tr>\n",
       "  </thead>\n",
       "  <tbody>\n",
       "    <tr>\n",
       "      <th>0</th>\n",
       "      <td>0</td>\n",
       "      <td>Anjoom</td>\n",
       "      <td>23</td>\n",
       "      <td>a</td>\n",
       "    </tr>\n",
       "    <tr>\n",
       "      <th>1</th>\n",
       "      <td>1</td>\n",
       "      <td>Anaiza</td>\n",
       "      <td>7</td>\n",
       "      <td>b</td>\n",
       "    </tr>\n",
       "  </tbody>\n",
       "</table>\n",
       "</div>"
      ],
      "text/plain": [
       "   Unnamed: 0    name  age study\n",
       "0           0  Anjoom   23     a\n",
       "1           1  Anaiza    7     b"
      ]
     },
     "execution_count": 162,
     "metadata": {},
     "output_type": "execute_result"
    }
   ],
   "source": [
    "df"
   ]
  },
  {
   "cell_type": "code",
   "execution_count": 164,
   "id": "98cc4e3c-035a-4ee2-bb1a-d3b661324704",
   "metadata": {},
   "outputs": [
    {
     "data": {
      "text/html": [
       "<div>\n",
       "<style scoped>\n",
       "    .dataframe tbody tr th:only-of-type {\n",
       "        vertical-align: middle;\n",
       "    }\n",
       "\n",
       "    .dataframe tbody tr th {\n",
       "        vertical-align: top;\n",
       "    }\n",
       "\n",
       "    .dataframe thead th {\n",
       "        text-align: right;\n",
       "    }\n",
       "</style>\n",
       "<table border=\"1\" class=\"dataframe\">\n",
       "  <thead>\n",
       "    <tr style=\"text-align: right;\">\n",
       "      <th></th>\n",
       "      <th>Unnamed: 0</th>\n",
       "      <th>name</th>\n",
       "      <th>age</th>\n",
       "    </tr>\n",
       "  </thead>\n",
       "  <tbody>\n",
       "    <tr>\n",
       "      <th>0</th>\n",
       "      <td>0</td>\n",
       "      <td>Anjoom</td>\n",
       "      <td>23</td>\n",
       "    </tr>\n",
       "    <tr>\n",
       "      <th>1</th>\n",
       "      <td>1</td>\n",
       "      <td>Anaiza</td>\n",
       "      <td>7</td>\n",
       "    </tr>\n",
       "  </tbody>\n",
       "</table>\n",
       "</div>"
      ],
      "text/plain": [
       "   Unnamed: 0    name  age\n",
       "0           0  Anjoom   23\n",
       "1           1  Anaiza    7"
      ]
     },
     "execution_count": 164,
     "metadata": {},
     "output_type": "execute_result"
    }
   ],
   "source": [
    "df.drop('study', axis=1)#axis 1 means column,0 means row\n"
   ]
  },
  {
   "cell_type": "code",
   "execution_count": 165,
   "id": "677d5643-2741-4be3-b94e-1d9d91e765e7",
   "metadata": {},
   "outputs": [
    {
     "data": {
      "text/html": [
       "<div>\n",
       "<style scoped>\n",
       "    .dataframe tbody tr th:only-of-type {\n",
       "        vertical-align: middle;\n",
       "    }\n",
       "\n",
       "    .dataframe tbody tr th {\n",
       "        vertical-align: top;\n",
       "    }\n",
       "\n",
       "    .dataframe thead th {\n",
       "        text-align: right;\n",
       "    }\n",
       "</style>\n",
       "<table border=\"1\" class=\"dataframe\">\n",
       "  <thead>\n",
       "    <tr style=\"text-align: right;\">\n",
       "      <th></th>\n",
       "      <th>Unnamed: 0</th>\n",
       "      <th>name</th>\n",
       "      <th>age</th>\n",
       "      <th>study</th>\n",
       "    </tr>\n",
       "  </thead>\n",
       "  <tbody>\n",
       "    <tr>\n",
       "      <th>0</th>\n",
       "      <td>0</td>\n",
       "      <td>Anjoom</td>\n",
       "      <td>23</td>\n",
       "      <td>a</td>\n",
       "    </tr>\n",
       "    <tr>\n",
       "      <th>1</th>\n",
       "      <td>1</td>\n",
       "      <td>Anaiza</td>\n",
       "      <td>7</td>\n",
       "      <td>b</td>\n",
       "    </tr>\n",
       "  </tbody>\n",
       "</table>\n",
       "</div>"
      ],
      "text/plain": [
       "   Unnamed: 0    name  age study\n",
       "0           0  Anjoom   23     a\n",
       "1           1  Anaiza    7     b"
      ]
     },
     "execution_count": 165,
     "metadata": {},
     "output_type": "execute_result"
    }
   ],
   "source": [
    "df"
   ]
  },
  {
   "cell_type": "code",
   "execution_count": 166,
   "id": "a652820a-06e0-4a9c-9f21-76550bdd96f0",
   "metadata": {},
   "outputs": [],
   "source": [
    "df.drop('study', axis=1, inplace = True)#df updates"
   ]
  },
  {
   "cell_type": "code",
   "execution_count": 167,
   "id": "49f6a274-802c-4a91-9cea-8dc2461459ea",
   "metadata": {},
   "outputs": [
    {
     "data": {
      "text/html": [
       "<div>\n",
       "<style scoped>\n",
       "    .dataframe tbody tr th:only-of-type {\n",
       "        vertical-align: middle;\n",
       "    }\n",
       "\n",
       "    .dataframe tbody tr th {\n",
       "        vertical-align: top;\n",
       "    }\n",
       "\n",
       "    .dataframe thead th {\n",
       "        text-align: right;\n",
       "    }\n",
       "</style>\n",
       "<table border=\"1\" class=\"dataframe\">\n",
       "  <thead>\n",
       "    <tr style=\"text-align: right;\">\n",
       "      <th></th>\n",
       "      <th>Unnamed: 0</th>\n",
       "      <th>name</th>\n",
       "      <th>age</th>\n",
       "    </tr>\n",
       "  </thead>\n",
       "  <tbody>\n",
       "    <tr>\n",
       "      <th>0</th>\n",
       "      <td>0</td>\n",
       "      <td>Anjoom</td>\n",
       "      <td>23</td>\n",
       "    </tr>\n",
       "    <tr>\n",
       "      <th>1</th>\n",
       "      <td>1</td>\n",
       "      <td>Anaiza</td>\n",
       "      <td>7</td>\n",
       "    </tr>\n",
       "  </tbody>\n",
       "</table>\n",
       "</div>"
      ],
      "text/plain": [
       "   Unnamed: 0    name  age\n",
       "0           0  Anjoom   23\n",
       "1           1  Anaiza    7"
      ]
     },
     "execution_count": 167,
     "metadata": {},
     "output_type": "execute_result"
    }
   ],
   "source": [
    "df"
   ]
  },
  {
   "cell_type": "code",
   "execution_count": null,
   "id": "ae236b15-8df5-478b-92e3-f49aa60adb1d",
   "metadata": {},
   "outputs": [],
   "source": [
    " "
   ]
  }
 ],
 "metadata": {
  "kernelspec": {
   "display_name": "Python 3 (ipykernel)",
   "language": "python",
   "name": "python3"
  },
  "language_info": {
   "codemirror_mode": {
    "name": "ipython",
    "version": 3
   },
   "file_extension": ".py",
   "mimetype": "text/x-python",
   "name": "python",
   "nbconvert_exporter": "python",
   "pygments_lexer": "ipython3",
   "version": "3.11.3"
  }
 },
 "nbformat": 4,
 "nbformat_minor": 5
}
